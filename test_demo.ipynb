import os
import requests

res = requests.get("https://www.wikipedia.com/")
print(res.json())
